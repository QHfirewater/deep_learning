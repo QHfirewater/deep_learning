{
 "cells": [
  {
   "cell_type": "code",
   "execution_count": 1,
   "metadata": {},
   "outputs": [],
   "source": [
    "import torch\n",
    "from torch.utils.data import Dataset\n",
    "from torchvision import datasets\n",
    "from torchvision.transforms import ToTensor\n",
    "import matplotlib.pyplot as plt"
   ]
  },
  {
   "cell_type": "code",
   "execution_count": 2,
   "metadata": {},
   "outputs": [
    {
     "name": "stdout",
     "output_type": "stream",
     "text": [
      "Downloading http://fashion-mnist.s3-website.eu-central-1.amazonaws.com/train-images-idx3-ubyte.gz\n",
      "Downloading http://183.207.33.35:9011/fashion-mnist.s3-website.eu-central-1.amazonaws.com/c3pr90ntc0td/train-images-idx3-ubyte.gz to data\\FashionMNIST\\raw\\train-images-idx3-ubyte.gz\n"
     ]
    },
    {
     "name": "stderr",
     "output_type": "stream",
     "text": [
      "26422272it [00:01, 19539617.00it/s]                              \n"
     ]
    },
    {
     "name": "stdout",
     "output_type": "stream",
     "text": [
      "Extracting data\\FashionMNIST\\raw\\train-images-idx3-ubyte.gz to data\\FashionMNIST\\raw\n",
      "\n",
      "Downloading http://fashion-mnist.s3-website.eu-central-1.amazonaws.com/train-labels-idx1-ubyte.gz\n",
      "Downloading http://183.207.33.36:9011/fashion-mnist.s3-website.eu-central-1.amazonaws.com/c3pr90ntc0td/train-labels-idx1-ubyte.gz to data\\FashionMNIST\\raw\\train-labels-idx1-ubyte.gz\n"
     ]
    },
    {
     "name": "stderr",
     "output_type": "stream",
     "text": [
      "29696it [00:00, 3873069.80it/s]          "
     ]
    },
    {
     "name": "stdout",
     "output_type": "stream",
     "text": [
      "Extracting data\\FashionMNIST\\raw\\train-labels-idx1-ubyte.gz to data\\FashionMNIST\\raw\n",
      "\n",
      "Downloading http://fashion-mnist.s3-website.eu-central-1.amazonaws.com/t10k-images-idx3-ubyte.gz\n"
     ]
    },
    {
     "name": "stderr",
     "output_type": "stream",
     "text": [
      "\n"
     ]
    },
    {
     "name": "stdout",
     "output_type": "stream",
     "text": [
      "Downloading http://183.207.33.35:9011/fashion-mnist.s3-website.eu-central-1.amazonaws.com/c3pr90ntc0td/t10k-images-idx3-ubyte.gz to data\\FashionMNIST\\raw\\t10k-images-idx3-ubyte.gz\n"
     ]
    },
    {
     "name": "stderr",
     "output_type": "stream",
     "text": [
      "4422656it [00:00, 18746899.94it/s]                             \n"
     ]
    },
    {
     "name": "stdout",
     "output_type": "stream",
     "text": [
      "Extracting data\\FashionMNIST\\raw\\t10k-images-idx3-ubyte.gz to data\\FashionMNIST\\raw\n",
      "\n",
      "Downloading http://fashion-mnist.s3-website.eu-central-1.amazonaws.com/t10k-labels-idx1-ubyte.gz\n",
      "Downloading http://183.207.33.36:9011/fashion-mnist.s3-website.eu-central-1.amazonaws.com/c3pr90ntc0td/t10k-labels-idx1-ubyte.gz to data\\FashionMNIST\\raw\\t10k-labels-idx1-ubyte.gz\n"
     ]
    },
    {
     "name": "stderr",
     "output_type": "stream",
     "text": [
      "6144it [00:00, ?it/s]                   "
     ]
    },
    {
     "name": "stdout",
     "output_type": "stream",
     "text": [
      "Extracting data\\FashionMNIST\\raw\\t10k-labels-idx1-ubyte.gz to data\\FashionMNIST\\raw\n",
      "\n"
     ]
    },
    {
     "name": "stderr",
     "output_type": "stream",
     "text": [
      "\n",
      "D:\\software\\anaconda\\lib\\site-packages\\torchvision\\datasets\\mnist.py:498: UserWarning: The given NumPy array is not writeable, and PyTorch does not support non-writeable tensors. This means you can write to the underlying (supposedly non-writeable) NumPy array using the tensor. You may want to copy the array to protect its data or make it writeable before converting it to a tensor. This type of warning will be suppressed for the rest of this program. (Triggered internally at  ..\\torch\\csrc\\utils\\tensor_numpy.cpp:180.)\n",
      "  return torch.from_numpy(parsed.astype(m[2], copy=False)).view(*s)\n"
     ]
    }
   ],
   "source": [
    "training_data = datasets.FashionMNIST(root='data',train=True,download=True,transform=ToTensor())"
   ]
  },
  {
   "cell_type": "code",
   "execution_count": 3,
   "metadata": {},
   "outputs": [],
   "source": [
    "test_data = datasets.FashionMNIST(root='data',train=False,download=True,transform=ToTensor())"
   ]
  },
  {
   "cell_type": "code",
   "execution_count": 4,
   "metadata": {},
   "outputs": [],
   "source": [
    "labels_map = {0:'shirt',1:'trouser',2:'pullover',3:'dress',4:'coat',5:\"sandal\",6:'shirt',7:'sneak',8:'bag',9:'ankle boot'}"
   ]
  },
  {
   "cell_type": "code",
   "execution_count": 12,
   "metadata": {},
   "outputs": [
    {
     "data": {
      "image/png": "[encoded data removed]",
      "text/plain": [
       "<Figure size 576x576 with 9 Axes>"
      ]
     },
     "metadata": {
      "needs_background": "light"
     },
     "output_type": "display_data"
    }
   ],
   "source": [
    "figure = plt.figure(figsize=(8,8))\n",
    "cols,rows = 3,3\n",
    "for i in range(1,cols*rows+1):\n",
    "    sample_index = torch.randint(len(training_data),size = (1,)).item()\n",
    "    img ,label = training_data[sample_index]\n",
    "    figure.add_subplot(rows,cols,i)\n",
    "    plt.title(labels_map[label])\n",
    "    plt.axis('off')\n",
    "    plt.imshow(img.squeeze(),cmap='gray')\n"
   ]
  },
  {
   "cell_type": "code",
   "execution_count": 13,
   "metadata": {},
   "outputs": [],
   "source": [
    "import os\n",
    "import pandas as pd\n",
    "from torchvision.io import read_image"
   ]
  },
  {
   "cell_type": "code",
   "execution_count": 14,
   "metadata": {},
   "outputs": [],
   "source": [
    "class Custimagedataset(Dataset):\n",
    "    def __init__(self,annotations_file,img_dir,transform = None,targe_transform = None):\n",
    "        self.img_labels = pd.read_csv(annotations_file)\n",
    "        self.img_dir = img_dir\n",
    "        self.transform = transform\n",
    "        self.target_transform = targe_transform\n",
    "    def __len__(self):\n",
    "        return len(self.img_labels)\n",
    "    def __getitem__(self,idx):\n",
    "        img_path = os.path.join(self.img_dir,self.img_labels.iloc[idx,0])\n",
    "        image = read_image(img_path)\n",
    "        label = self.img_labels.iloc[idx,1]\n",
    "        if self.transform :\n",
    "            image = self.transform(image)\n",
    "        if self.target_transform:\n",
    "            label = self.target_transform(label)\n",
    "        return image,label"
   ]
  },
  {
   "cell_type": "code",
   "execution_count": 15,
   "metadata": {},
   "outputs": [],
   "source": [
    "from torch.utils.data import DataLoader\n",
    "train_dataloader = DataLoader(training_data,batch_size = 64,shuffle = True)\n",
    "Test_dataloader = DataLoader(test_data,batch_size=64,shuffle=True)\n"
   ]
  },
  {
   "cell_type": "code",
   "execution_count": 24,
   "metadata": {},
   "outputs": [
    {
     "data": {
      "text/plain": [
       "tensor(7)"
      ]
     },
     "execution_count": 24,
     "metadata": {},
     "output_type": "execute_result"
    },
    {
     "data": {
      "image/png": "[encoded data removed]",
      "text/plain": [
       "<Figure size 432x288 with 1 Axes>"
      ]
     },
     "metadata": {
      "needs_background": "light"
     },
     "output_type": "display_data"
    }
   ],
   "source": [
    "train_features,train_label = next(iter(train_dataloader))\n",
    "train_features.size()\n",
    "train_label.size()\n",
    "img = train_features[0].squeeze()\n",
    "label = train_label[0]\n",
    "plt.imshow(img,cmap='gray')\n",
    "label"
   ]
  },
  {
   "cell_type": "code",
   "execution_count": 25,
   "metadata": {},
   "outputs": [],
   "source": [
    "import torch\n",
    "from torchvision import datasets\n",
    "from torchvision.transforms import ToTensor,Lambda"
   ]
  },
  {
   "cell_type": "code",
   "execution_count": 26,
   "metadata": {},
   "outputs": [],
   "source": [
    "ds = datasets.FashionMNIST(root='data',train=True,download=True,transform=ToTensor,target_transform=Lambda(lambda y: torch.zeros(10,dtype=torch.float).scatter_(0,torch.tensor(y),value=1)))"
   ]
  },
  {
   "cell_type": "code",
   "execution_count": 27,
   "metadata": {},
   "outputs": [],
   "source": [
    "import os \n",
    "import torch \n",
    "from torch import nn\n",
    "from torch.utils.data import DataLoader\n",
    "from torchvision import datasets,transforms"
   ]
  },
  {
   "cell_type": "code",
   "execution_count": 28,
   "metadata": {},
   "outputs": [],
   "source": [
    "if torch.cuda.is_available():\n",
    "    device = 'cuda'"
   ]
  },
  {
   "cell_type": "code",
   "execution_count": 29,
   "metadata": {},
   "outputs": [
    {
     "data": {
      "text/plain": [
       "'cuda'"
      ]
     },
     "execution_count": 29,
     "metadata": {},
     "output_type": "execute_result"
    }
   ],
   "source": [
    "device"
   ]
  },
  {
   "cell_type": "code",
   "execution_count": 34,
   "metadata": {},
   "outputs": [],
   "source": [
    "class Net(nn.Module):\n",
    "    def __init__(self):\n",
    "        super().__init__()\n",
    "        self.flatten = nn.Flatten()\n",
    "        self.linear_relu_stack = nn.Sequential(nn.Linear(28*28,512),\n",
    "        nn.ReLU(),\n",
    "        nn.Linear(512,512),\n",
    "        nn.ReLU(),\n",
    "        nn.Linear(512,10))\n",
    "    def forward(self,x):\n",
    "        x = self.flatten(x)\n",
    "        logits = self.linear_relu_stack(x)\n",
    "        return logits\n"
   ]
  },
  {
   "cell_type": "code",
   "execution_count": 35,
   "metadata": {},
   "outputs": [],
   "source": [
    "model = Net()"
   ]
  },
  {
   "cell_type": "code",
   "execution_count": 36,
   "metadata": {},
   "outputs": [],
   "source": [
    "model = model.to(device)"
   ]
  },
  {
   "cell_type": "code",
   "execution_count": 37,
   "metadata": {},
   "outputs": [
    {
     "data": {
      "text/plain": [
       "Net(\n",
       "  (flatten): Flatten(start_dim=1, end_dim=-1)\n",
       "  (linear_relu_stack): Sequential(\n",
       "    (0): Linear(in_features=784, out_features=512, bias=True)\n",
       "    (1): ReLU()\n",
       "    (2): Linear(in_features=512, out_features=512, bias=True)\n",
       "    (3): ReLU()\n",
       "    (4): Linear(in_features=512, out_features=10, bias=True)\n",
       "  )\n",
       ")"
      ]
     },
     "execution_count": 37,
     "metadata": {},
     "output_type": "execute_result"
    }
   ],
   "source": [
    "model"
   ]
  },
  {
   "cell_type": "code",
   "execution_count": 38,
   "metadata": {},
   "outputs": [],
   "source": [
    "x  = torch.rand(1,28,28,device=device)\n",
    "logits = model(x)\n",
    "pred_pro = nn.Softmax(dim=1)(logits)\n",
    "y_pred = pred_pro.argmax(1)"
   ]
  },
  {
   "cell_type": "code",
   "execution_count": 39,
   "metadata": {},
   "outputs": [
    {
     "data": {
      "text/plain": [
       "tensor([1], device='cuda:0')"
      ]
     },
     "execution_count": 39,
     "metadata": {},
     "output_type": "execute_result"
    }
   ],
   "source": [
    "y_pred"
   ]
  },
  {
   "cell_type": "code",
   "execution_count": 41,
   "metadata": {},
   "outputs": [
    {
     "data": {
      "text/plain": [
       "tensor([[[0.0440, 0.2483, 0.3801,  ..., 0.9964, 0.8484, 0.9636],\n",
       "         [0.9903, 0.6298, 0.0765,  ..., 0.4051, 0.1082, 0.5059],\n",
       "         [0.0321, 0.8689, 0.0229,  ..., 0.0477, 0.9781, 0.3462],\n",
       "         ...,\n",
       "         [0.9498, 0.6924, 0.6373,  ..., 0.1891, 0.5867, 0.6290],\n",
       "         [0.8910, 0.5163, 0.6427,  ..., 0.5133, 0.3569, 0.7798],\n",
       "         [0.6754, 0.8345, 0.2539,  ..., 0.5961, 0.0680, 0.0522]],\n",
       "\n",
       "        [[0.4678, 0.0428, 0.7236,  ..., 0.3811, 0.5056, 0.8634],\n",
       "         [0.5815, 0.3287, 0.7750,  ..., 0.0051, 0.3276, 0.8715],\n",
       "         [0.4851, 0.1416, 0.6249,  ..., 0.0467, 0.6030, 0.4475],\n",
       "         ...,\n",
       "         [0.1960, 0.7679, 0.8348,  ..., 0.7172, 0.8341, 0.4912],\n",
       "         [0.2549, 0.7600, 0.7107,  ..., 0.2217, 0.3902, 0.6115],\n",
       "         [0.0040, 0.5386, 0.8519,  ..., 0.0779, 0.9663, 0.7905]],\n",
       "\n",
       "        [[0.9298, 0.9284, 0.0891,  ..., 0.6429, 0.4447, 0.1588],\n",
       "         [0.8929, 0.9257, 0.9322,  ..., 0.3485, 0.6151, 0.7728],\n",
       "         [0.3269, 0.0111, 0.1014,  ..., 0.9252, 0.2762, 0.2589],\n",
       "         ...,\n",
       "         [0.4011, 0.3810, 0.6325,  ..., 0.0305, 0.5036, 0.5013],\n",
       "         [0.7266, 0.7767, 0.2030,  ..., 0.5560, 0.8686, 0.2365],\n",
       "         [0.6028, 0.9236, 0.3775,  ..., 0.0561, 0.0685, 0.8075]]])"
      ]
     },
     "execution_count": 41,
     "metadata": {},
     "output_type": "execute_result"
    }
   ],
   "source": [
    "input_img = torch.rand(3,28,28)\n",
    "input_img"
   ]
  },
  {
   "cell_type": "code",
   "execution_count": 42,
   "metadata": {},
   "outputs": [
    {
     "data": {
      "text/plain": [
       "tensor([[0.0440, 0.2483, 0.3801,  ..., 0.5961, 0.0680, 0.0522],\n",
       "        [0.4678, 0.0428, 0.7236,  ..., 0.0779, 0.9663, 0.7905],\n",
       "        [0.9298, 0.9284, 0.0891,  ..., 0.0561, 0.0685, 0.8075]])"
      ]
     },
     "execution_count": 42,
     "metadata": {},
     "output_type": "execute_result"
    }
   ],
   "source": [
    "flatten = nn.Flatten()\n",
    "flatten_img  = flatten(input_img)\n",
    "flatten_img"
   ]
  },
  {
   "cell_type": "code",
   "execution_count": 44,
   "metadata": {},
   "outputs": [
    {
     "data": {
      "text/plain": [
       "torch.Size([3, 784])"
      ]
     },
     "execution_count": 44,
     "metadata": {},
     "output_type": "execute_result"
    }
   ],
   "source": [
    "flatten_img.size()"
   ]
  },
  {
   "cell_type": "code",
   "execution_count": 45,
   "metadata": {},
   "outputs": [
    {
     "data": {
      "text/plain": [
       "tensor([[ 0.1387, -0.4685, -0.4470,  0.1804, -0.2555, -0.1115,  0.1403, -0.0181,\n",
       "          0.6921,  0.3822,  0.3241, -0.3990,  0.2316,  0.3218,  0.0478,  0.2395,\n",
       "          0.1992,  0.1743, -0.3121,  0.2875],\n",
       "        [ 0.0704, -0.4013, -0.0026,  0.4367, -0.0995, -0.0371,  0.1132,  0.2837,\n",
       "          0.2144,  0.4239,  0.4036, -0.4943,  0.3792, -0.0435, -0.1187,  0.0896,\n",
       "          0.1373,  0.0925, -0.6023,  0.3963],\n",
       "        [ 0.1139, -0.1517, -0.1071,  0.2093,  0.0418,  0.1878, -0.0266,  0.0246,\n",
       "         -0.1117,  0.6753,  0.0976, -0.1920,  0.1101,  0.3791, -0.0383,  0.0062,\n",
       "          0.3119,  0.1110, -0.4252,  0.3269]], grad_fn=<AddmmBackward>)"
      ]
     },
     "execution_count": 45,
     "metadata": {},
     "output_type": "execute_result"
    }
   ],
   "source": [
    "layer1 = nn.Linear(28*28,20)\n",
    "hid1 = layer1(flatten_img)\n",
    "hid1"
   ]
  },
  {
   "cell_type": "code",
   "execution_count": 46,
   "metadata": {},
   "outputs": [
    {
     "data": {
      "text/plain": [
       "torch.Size([3, 20])"
      ]
     },
     "execution_count": 46,
     "metadata": {},
     "output_type": "execute_result"
    }
   ],
   "source": [
    "hid1.size()"
   ]
  },
  {
   "cell_type": "code",
   "execution_count": 47,
   "metadata": {},
   "outputs": [
    {
     "data": {
      "text/plain": [
       "tensor([[0.1387, 0.0000, 0.0000, 0.1804, 0.0000, 0.0000, 0.1403, 0.0000, 0.6921,\n",
       "         0.3822, 0.3241, 0.0000, 0.2316, 0.3218, 0.0478, 0.2395, 0.1992, 0.1743,\n",
       "         0.0000, 0.2875],\n",
       "        [0.0704, 0.0000, 0.0000, 0.4367, 0.0000, 0.0000, 0.1132, 0.2837, 0.2144,\n",
       "         0.4239, 0.4036, 0.0000, 0.3792, 0.0000, 0.0000, 0.0896, 0.1373, 0.0925,\n",
       "         0.0000, 0.3963],\n",
       "        [0.1139, 0.0000, 0.0000, 0.2093, 0.0418, 0.1878, 0.0000, 0.0246, 0.0000,\n",
       "         0.6753, 0.0976, 0.0000, 0.1101, 0.3791, 0.0000, 0.0062, 0.3119, 0.1110,\n",
       "         0.0000, 0.3269]], grad_fn=<ReluBackward0>)"
      ]
     },
     "execution_count": 47,
     "metadata": {},
     "output_type": "execute_result"
    }
   ],
   "source": [
    "relu1 = nn.ReLU()\n",
    "hid2 =relu1(hid1)\n",
    "hid2"
   ]
  },
  {
   "cell_type": "code",
   "execution_count": 50,
   "metadata": {},
   "outputs": [
    {
     "name": "stdout",
     "output_type": "stream",
     "text": [
      "linear_relu_stack.0.weight\n",
      "linear_relu_stack.0.bias\n",
      "linear_relu_stack.2.weight\n",
      "linear_relu_stack.2.bias\n",
      "linear_relu_stack.4.weight\n",
      "linear_relu_stack.4.bias\n"
     ]
    }
   ],
   "source": [
    "for name,para in model.named_parameters():\n",
    "    print(name)"
   ]
  },
  {
   "cell_type": "code",
   "execution_count": 51,
   "metadata": {},
   "outputs": [],
   "source": [
    "import torch"
   ]
  },
  {
   "cell_type": "code",
   "execution_count": 52,
   "metadata": {},
   "outputs": [],
   "source": [
    "x  =  torch.ones(5)\n",
    "y = torch.zeros(3)\n",
    "w = torch.randn(5,3,requires_grad=True)\n",
    "b = torch.randn(3,requires_grad=True)\n",
    "z = torch.matmul(x,w) +b\n",
    "loss = torch.nn.functional.binary_cross_entropy_with_logits(z,y)"
   ]
  },
  {
   "cell_type": "code",
   "execution_count": 53,
   "metadata": {},
   "outputs": [
    {
     "data": {
      "text/plain": [
       "tensor(0.4461, grad_fn=<BinaryCrossEntropyWithLogitsBackward>)"
      ]
     },
     "execution_count": 53,
     "metadata": {},
     "output_type": "execute_result"
    }
   ],
   "source": [
    "loss"
   ]
  },
  {
   "cell_type": "code",
   "execution_count": 54,
   "metadata": {},
   "outputs": [
    {
     "data": {
      "text/plain": [
       "<AddBackward0 at 0x17a99d9ebe0>"
      ]
     },
     "execution_count": 54,
     "metadata": {},
     "output_type": "execute_result"
    }
   ],
   "source": [
    "z.grad_fn"
   ]
  },
  {
   "cell_type": "code",
   "execution_count": 55,
   "metadata": {},
   "outputs": [
    {
     "data": {
      "text/plain": [
       "<BinaryCrossEntropyWithLogitsBackward at 0x17a99d9ed00>"
      ]
     },
     "execution_count": 55,
     "metadata": {},
     "output_type": "execute_result"
    }
   ],
   "source": [
    "loss.grad_fn"
   ]
  },
  {
   "cell_type": "code",
   "execution_count": 56,
   "metadata": {},
   "outputs": [],
   "source": [
    "loss.backward()"
   ]
  },
  {
   "cell_type": "code",
   "execution_count": 57,
   "metadata": {},
   "outputs": [
    {
     "data": {
      "text/plain": [
       "tensor([[0.0025, 0.0087, 0.2429],\n",
       "        [0.0025, 0.0087, 0.2429],\n",
       "        [0.0025, 0.0087, 0.2429],\n",
       "        [0.0025, 0.0087, 0.2429],\n",
       "        [0.0025, 0.0087, 0.2429]])"
      ]
     },
     "execution_count": 57,
     "metadata": {},
     "output_type": "execute_result"
    }
   ],
   "source": [
    "w.grad"
   ]
  },
  {
   "cell_type": "code",
   "execution_count": 58,
   "metadata": {},
   "outputs": [
    {
     "data": {
      "text/plain": [
       "tensor([0.0025, 0.0087, 0.2429])"
      ]
     },
     "execution_count": 58,
     "metadata": {},
     "output_type": "execute_result"
    }
   ],
   "source": [
    "b.grad"
   ]
  },
  {
   "cell_type": "code",
   "execution_count": 60,
   "metadata": {},
   "outputs": [
    {
     "data": {
      "text/plain": [
       "tensor([[-1.2566, -0.7034, -1.1299],\n",
       "        [-0.0914, -0.7989, -0.0845],\n",
       "        [-0.4011, -1.8697,  0.7856],\n",
       "        [ 0.3078,  0.6165,  1.0494],\n",
       "        [-2.6073,  0.0537,  0.5169]], requires_grad=True)"
      ]
     },
     "execution_count": 60,
     "metadata": {},
     "output_type": "execute_result"
    }
   ],
   "source": [
    "w"
   ]
  },
  {
   "cell_type": "code",
   "execution_count": 61,
   "metadata": {},
   "outputs": [
    {
     "data": {
      "text/plain": [
       "tensor([-0.8374, -0.9143, -0.1498], requires_grad=True)"
      ]
     },
     "execution_count": 61,
     "metadata": {},
     "output_type": "execute_result"
    }
   ],
   "source": [
    "b"
   ]
  },
  {
   "cell_type": "markdown",
   "metadata": {},
   "source": [
    "## 禁止梯度跟踪"
   ]
  },
  {
   "cell_type": "code",
   "execution_count": 62,
   "metadata": {},
   "outputs": [],
   "source": [
    "z = torch.matmul(x,w)+b"
   ]
  },
  {
   "cell_type": "code",
   "execution_count": 63,
   "metadata": {},
   "outputs": [
    {
     "data": {
      "text/plain": [
       "True"
      ]
     },
     "execution_count": 63,
     "metadata": {},
     "output_type": "execute_result"
    }
   ],
   "source": [
    "z.requires_grad"
   ]
  },
  {
   "cell_type": "code",
   "execution_count": 64,
   "metadata": {},
   "outputs": [
    {
     "data": {
      "text/plain": [
       "tensor([-4.8859, -3.6161,  0.9877])"
      ]
     },
     "execution_count": 64,
     "metadata": {},
     "output_type": "execute_result"
    }
   ],
   "source": [
    "with torch.no_grad():\n",
    "    z = torch.matmul(x,w)+b\n",
    "z"
   ]
  },
  {
   "cell_type": "code",
   "execution_count": 65,
   "metadata": {},
   "outputs": [
    {
     "data": {
      "text/plain": [
       "False"
      ]
     },
     "execution_count": 65,
     "metadata": {},
     "output_type": "execute_result"
    }
   ],
   "source": [
    "z.requires_grad"
   ]
  },
  {
   "cell_type": "code",
   "execution_count": 67,
   "metadata": {},
   "outputs": [
    {
     "data": {
      "text/plain": [
       "False"
      ]
     },
     "execution_count": 67,
     "metadata": {},
     "output_type": "execute_result"
    }
   ],
   "source": [
    "#这种方法也可以防止梯度跟踪\n",
    "z = torch.matmul(x,w)+b\n",
    "z_det = z.detach()\n",
    "z_det.requires_grad"
   ]
  },
  {
   "cell_type": "code",
   "execution_count": 82,
   "metadata": {},
   "outputs": [
    {
     "data": {
      "text/plain": [
       "tensor([[1., 0., 0., 0., 0.],\n",
       "        [0., 1., 0., 0., 0.],\n",
       "        [0., 0., 1., 0., 0.],\n",
       "        [0., 0., 0., 1., 0.],\n",
       "        [0., 0., 0., 0., 1.]], requires_grad=True)"
      ]
     },
     "execution_count": 82,
     "metadata": {},
     "output_type": "execute_result"
    }
   ],
   "source": [
    "inp =  torch.eye(5,requires_grad=True)\n",
    "inp"
   ]
  },
  {
   "cell_type": "code",
   "execution_count": 83,
   "metadata": {},
   "outputs": [
    {
     "data": {
      "text/plain": [
       "tensor([[4., 1., 1., 1., 1.],\n",
       "        [1., 4., 1., 1., 1.],\n",
       "        [1., 1., 4., 1., 1.],\n",
       "        [1., 1., 1., 4., 1.],\n",
       "        [1., 1., 1., 1., 4.]], grad_fn=<PowBackward0>)"
      ]
     },
     "execution_count": 83,
     "metadata": {},
     "output_type": "execute_result"
    }
   ],
   "source": [
    "out = (inp+1).pow(2)\n",
    "out"
   ]
  },
  {
   "cell_type": "code",
   "execution_count": 84,
   "metadata": {},
   "outputs": [
    {
     "data": {
      "text/plain": [
       "tensor([[4., 2., 2., 2., 2.],\n",
       "        [2., 4., 2., 2., 2.],\n",
       "        [2., 2., 4., 2., 2.],\n",
       "        [2., 2., 2., 4., 2.],\n",
       "        [2., 2., 2., 2., 4.]])"
      ]
     },
     "execution_count": 84,
     "metadata": {},
     "output_type": "execute_result"
    }
   ],
   "source": [
    "out.backward(torch.ones_like(inp),retain_graph=True)\n",
    "inp.grad"
   ]
  },
  {
   "cell_type": "code",
   "execution_count": 85,
   "metadata": {},
   "outputs": [
    {
     "data": {
      "text/plain": [
       "tensor([[8., 4., 4., 4., 4.],\n",
       "        [4., 8., 4., 4., 4.],\n",
       "        [4., 4., 8., 4., 4.],\n",
       "        [4., 4., 4., 8., 4.],\n",
       "        [4., 4., 4., 4., 8.]])"
      ]
     },
     "execution_count": 85,
     "metadata": {},
     "output_type": "execute_result"
    }
   ],
   "source": [
    "out.backward(torch.ones_like(inp),retain_graph=True)\n",
    "inp.grad"
   ]
  },
  {
   "cell_type": "code",
   "execution_count": 86,
   "metadata": {},
   "outputs": [
    {
     "data": {
      "text/plain": [
       "tensor([[4., 2., 2., 2., 2.],\n",
       "        [2., 4., 2., 2., 2.],\n",
       "        [2., 2., 4., 2., 2.],\n",
       "        [2., 2., 2., 4., 2.],\n",
       "        [2., 2., 2., 2., 4.]])"
      ]
     },
     "execution_count": 86,
     "metadata": {},
     "output_type": "execute_result"
    }
   ],
   "source": [
    "inp.grad.zero_()\n",
    "out.backward(torch.ones_like(inp),retain_graph=True)\n",
    "inp.grad"
   ]
  },
  {
   "cell_type": "markdown",
   "metadata": {},
   "source": [
    "模型训练"
   ]
  },
  {
   "cell_type": "code",
   "execution_count": 104,
   "metadata": {},
   "outputs": [],
   "source": [
    "training_data = datasets.FashionMNIST(root='data',train=True,download=True,transform=ToTensor())"
   ]
  },
  {
   "cell_type": "code",
   "execution_count": 126,
   "metadata": {},
   "outputs": [],
   "source": [
    "test_data = datasets.FashionMNIST(root='data',train=False,download=True,transform=ToTensor())"
   ]
  },
  {
   "cell_type": "code",
   "execution_count": 127,
   "metadata": {},
   "outputs": [],
   "source": [
    "train_dataloader = DataLoader(training_data,batch_size = 64,shuffle = True)\n",
    "test_dataloader = DataLoader(test_data,batch_size=64,shuffle=True)\n"
   ]
  },
  {
   "cell_type": "code",
   "execution_count": 106,
   "metadata": {},
   "outputs": [],
   "source": [
    "model = Net()"
   ]
  },
  {
   "cell_type": "code",
   "execution_count": 107,
   "metadata": {},
   "outputs": [
    {
     "data": {
      "text/plain": [
       "Net(\n",
       "  (flatten): Flatten(start_dim=1, end_dim=-1)\n",
       "  (linear_relu_stack): Sequential(\n",
       "    (0): Linear(in_features=784, out_features=512, bias=True)\n",
       "    (1): ReLU()\n",
       "    (2): Linear(in_features=512, out_features=512, bias=True)\n",
       "    (3): ReLU()\n",
       "    (4): Linear(in_features=512, out_features=10, bias=True)\n",
       "  )\n",
       ")"
      ]
     },
     "execution_count": 107,
     "metadata": {},
     "output_type": "execute_result"
    }
   ],
   "source": [
    "model"
   ]
  },
  {
   "cell_type": "code",
   "execution_count": 143,
   "metadata": {},
   "outputs": [],
   "source": [
    "#定义超参数\n",
    "learning_rate = 1e-3\n",
    "batch_size =64\n",
    "epoch = 40"
   ]
  },
  {
   "cell_type": "code",
   "execution_count": 109,
   "metadata": {},
   "outputs": [],
   "source": [
    "#定义损失函数\n",
    "loss_fn = nn.CrossEntropyLoss()"
   ]
  },
  {
   "cell_type": "code",
   "execution_count": 110,
   "metadata": {},
   "outputs": [],
   "source": [
    "#定义优化器\n",
    "opt = torch.optim.SGD(model.parameters(),lr = learning_rate)"
   ]
  },
  {
   "cell_type": "code",
   "execution_count": 137,
   "metadata": {},
   "outputs": [],
   "source": [
    "def train_loop(dataloader,model,loss_fn,opt):\n",
    "    size  = len(dataloader.dataset)\n",
    "    for batch,(x,y) in enumerate(dataloader):\n",
    "        pred = model(x)\n",
    "        loss = loss_fn(pred,y)\n",
    "        opt.zero_grad()\n",
    "        loss.backward()\n",
    "        opt.step()\n",
    "        if batch % 100 ==0:\n",
    "            loss,current = loss.item(),batch*len(x)\n",
    "            print(f'loss:{loss:>7f}  [{current:>5d}/{size:>5d}]')"
   ]
  },
  {
   "cell_type": "code",
   "execution_count": 145,
   "metadata": {},
   "outputs": [],
   "source": [
    "def test_loop(dataloader,model,loss_fn):\n",
    "    size = len(dataloader)\n",
    "    num_batches = len(dataloader)\n",
    "    test_loss ,correct = 0,0\n",
    "    with torch.no_grad():\n",
    "        for x,y in dataloader:\n",
    "            pred = model(x)\n",
    "            test_loss += loss_fn(pred,y).item()\n",
    "            correct +=(pred.argmax(1)==y).type(torch.float).sum().item()\n",
    "    test_loss /=num_batches\n",
    "    correct /=size\n",
    "    print(f\"test_error: \\n accuracy: {(correct):>0.1f}%, avg loss: {test_loss:>8f}\")"
   ]
  },
  {
   "cell_type": "code",
   "execution_count": 146,
   "metadata": {},
   "outputs": [
    {
     "name": "stdout",
     "output_type": "stream",
     "text": [
      "epoch 1\n",
      "-----------\n",
      "loss:0.421647  [    0/60000]\n",
      "loss:0.580728  [ 6400/60000]\n",
      "loss:0.425872  [12800/60000]\n",
      "loss:0.489915  [19200/60000]\n",
      "loss:0.353148  [25600/60000]\n",
      "loss:0.575104  [32000/60000]\n",
      "loss:0.610281  [38400/60000]\n",
      "loss:0.376492  [44800/60000]\n",
      "loss:0.473571  [51200/60000]\n",
      "loss:0.644434  [57600/60000]\n",
      "test_error: \n",
      " accuracy: 51.8%, avg loss: 0.535125\n",
      "epoch 2\n",
      "-----------\n",
      "loss:0.845652  [    0/60000]\n",
      "loss:0.526631  [ 6400/60000]\n",
      "loss:0.493932  [12800/60000]\n",
      "loss:0.476794  [19200/60000]\n",
      "loss:0.687248  [25600/60000]\n",
      "loss:0.537574  [32000/60000]\n",
      "loss:0.518343  [38400/60000]\n",
      "loss:0.375340  [44800/60000]\n",
      "loss:0.374306  [51200/60000]\n",
      "loss:0.699434  [57600/60000]\n",
      "test_error: \n",
      " accuracy: 51.8%, avg loss: 0.530304\n",
      "epoch 3\n",
      "-----------\n",
      "loss:0.449233  [    0/60000]\n",
      "loss:0.383715  [ 6400/60000]\n",
      "loss:0.431806  [12800/60000]\n",
      "loss:0.468291  [19200/60000]\n",
      "loss:0.377543  [25600/60000]\n",
      "loss:0.378487  [32000/60000]\n",
      "loss:0.447187  [38400/60000]\n",
      "loss:0.540738  [44800/60000]\n",
      "loss:0.403142  [51200/60000]\n",
      "loss:0.354320  [57600/60000]\n",
      "test_error: \n",
      " accuracy: 52.0%, avg loss: 0.527685\n",
      "epoch 4\n",
      "-----------\n",
      "loss:0.637239  [    0/60000]\n",
      "loss:0.323209  [ 6400/60000]\n",
      "loss:0.695799  [12800/60000]\n",
      "loss:0.415356  [19200/60000]\n",
      "loss:0.561661  [25600/60000]\n",
      "loss:0.518631  [32000/60000]\n",
      "loss:0.681183  [38400/60000]\n",
      "loss:0.427888  [44800/60000]\n",
      "loss:0.586681  [51200/60000]\n",
      "loss:0.570669  [57600/60000]\n",
      "test_error: \n",
      " accuracy: 51.9%, avg loss: 0.527365\n",
      "epoch 5\n",
      "-----------\n",
      "loss:0.506323  [    0/60000]\n",
      "loss:0.337744  [ 6400/60000]\n",
      "loss:0.551632  [12800/60000]\n",
      "loss:0.475626  [19200/60000]\n",
      "loss:0.410014  [25600/60000]\n",
      "loss:0.444223  [32000/60000]\n",
      "loss:0.461989  [38400/60000]\n",
      "loss:0.430669  [44800/60000]\n",
      "loss:0.600213  [51200/60000]\n",
      "loss:0.380811  [57600/60000]\n",
      "test_error: \n",
      " accuracy: 52.0%, avg loss: 0.521784\n",
      "epoch 6\n",
      "-----------\n",
      "loss:0.435278  [    0/60000]\n",
      "loss:0.473390  [ 6400/60000]\n",
      "loss:0.683796  [12800/60000]\n",
      "loss:0.566632  [19200/60000]\n",
      "loss:0.623058  [25600/60000]\n",
      "loss:0.493544  [32000/60000]\n",
      "loss:0.360416  [38400/60000]\n",
      "loss:0.465032  [44800/60000]\n",
      "loss:0.424016  [51200/60000]\n",
      "loss:0.726538  [57600/60000]\n",
      "test_error: \n",
      " accuracy: 52.0%, avg loss: 0.518777\n",
      "epoch 7\n",
      "-----------\n",
      "loss:0.408584  [    0/60000]\n",
      "loss:0.606478  [ 6400/60000]\n",
      "loss:0.513220  [12800/60000]\n",
      "loss:0.475346  [19200/60000]\n",
      "loss:0.486685  [25600/60000]\n",
      "loss:0.652963  [32000/60000]\n",
      "loss:0.433598  [38400/60000]\n",
      "loss:0.502568  [44800/60000]\n",
      "loss:0.477868  [51200/60000]\n",
      "loss:0.421540  [57600/60000]\n",
      "test_error: \n",
      " accuracy: 51.9%, avg loss: 0.518639\n",
      "epoch 8\n",
      "-----------\n",
      "loss:0.346302  [    0/60000]\n",
      "loss:0.780824  [ 6400/60000]\n",
      "loss:0.484726  [12800/60000]\n",
      "loss:0.460460  [19200/60000]\n",
      "loss:0.365038  [25600/60000]\n",
      "loss:0.476264  [32000/60000]\n",
      "loss:0.525496  [38400/60000]\n",
      "loss:0.288950  [44800/60000]\n",
      "loss:0.498502  [51200/60000]\n",
      "loss:0.473199  [57600/60000]\n",
      "test_error: \n",
      " accuracy: 52.2%, avg loss: 0.512978\n",
      "epoch 9\n",
      "-----------\n",
      "loss:0.533509  [    0/60000]\n",
      "loss:0.411464  [ 6400/60000]\n",
      "loss:0.681780  [12800/60000]\n",
      "loss:0.443335  [19200/60000]\n",
      "loss:0.440263  [25600/60000]\n",
      "loss:0.434837  [32000/60000]\n",
      "loss:0.475275  [38400/60000]\n",
      "loss:0.399732  [44800/60000]\n",
      "loss:0.415752  [51200/60000]\n",
      "loss:0.463919  [57600/60000]\n",
      "test_error: \n",
      " accuracy: 52.1%, avg loss: 0.510075\n",
      "epoch 10\n",
      "-----------\n",
      "loss:0.353859  [    0/60000]\n",
      "loss:0.344315  [ 6400/60000]\n",
      "loss:0.613878  [12800/60000]\n",
      "loss:0.567429  [19200/60000]\n",
      "loss:0.595337  [25600/60000]\n",
      "loss:0.390113  [32000/60000]\n",
      "loss:0.418922  [38400/60000]\n",
      "loss:0.339689  [44800/60000]\n",
      "loss:0.514549  [51200/60000]\n",
      "loss:0.360048  [57600/60000]\n",
      "test_error: \n",
      " accuracy: 52.2%, avg loss: 0.508393\n",
      "epoch 11\n",
      "-----------\n",
      "loss:0.445396  [    0/60000]\n",
      "loss:0.508919  [ 6400/60000]\n",
      "loss:0.717937  [12800/60000]\n",
      "loss:0.436711  [19200/60000]\n",
      "loss:0.492149  [25600/60000]\n",
      "loss:0.514196  [32000/60000]\n",
      "loss:0.488859  [38400/60000]\n",
      "loss:0.430984  [44800/60000]\n",
      "loss:0.441794  [51200/60000]\n",
      "loss:0.255037  [57600/60000]\n",
      "test_error: \n",
      " accuracy: 52.3%, avg loss: 0.505748\n",
      "epoch 12\n",
      "-----------\n",
      "loss:0.434653  [    0/60000]\n",
      "loss:0.490385  [ 6400/60000]\n",
      "loss:0.363615  [12800/60000]\n",
      "loss:0.513432  [19200/60000]\n",
      "loss:0.385000  [25600/60000]\n",
      "loss:0.465317  [32000/60000]\n",
      "loss:0.599664  [38400/60000]\n",
      "loss:0.508042  [44800/60000]\n",
      "loss:0.602998  [51200/60000]\n",
      "loss:0.734168  [57600/60000]\n",
      "test_error: \n",
      " accuracy: 52.3%, avg loss: 0.502520\n",
      "epoch 13\n",
      "-----------\n",
      "loss:0.339927  [    0/60000]\n",
      "loss:0.454204  [ 6400/60000]\n",
      "loss:0.565537  [12800/60000]\n",
      "loss:0.638989  [19200/60000]\n",
      "loss:0.554754  [25600/60000]\n",
      "loss:0.456699  [32000/60000]\n",
      "loss:0.501123  [38400/60000]\n",
      "loss:0.423210  [44800/60000]\n",
      "loss:0.367687  [51200/60000]\n",
      "loss:0.775798  [57600/60000]\n",
      "test_error: \n",
      " accuracy: 52.4%, avg loss: 0.501162\n",
      "epoch 14\n",
      "-----------\n",
      "loss:0.443289  [    0/60000]\n",
      "loss:0.541095  [ 6400/60000]\n",
      "loss:0.367874  [12800/60000]\n",
      "loss:0.484284  [19200/60000]\n",
      "loss:0.607125  [25600/60000]\n",
      "loss:0.344036  [32000/60000]\n",
      "loss:0.418832  [38400/60000]\n",
      "loss:0.558768  [44800/60000]\n",
      "loss:0.371153  [51200/60000]\n",
      "loss:0.595385  [57600/60000]\n",
      "test_error: \n",
      " accuracy: 52.4%, avg loss: 0.498397\n",
      "epoch 15\n",
      "-----------\n",
      "loss:0.595998  [    0/60000]\n",
      "loss:0.510148  [ 6400/60000]\n",
      "loss:0.474722  [12800/60000]\n",
      "loss:0.499394  [19200/60000]\n",
      "loss:0.452495  [25600/60000]\n",
      "loss:0.460146  [32000/60000]\n",
      "loss:0.495831  [38400/60000]\n",
      "loss:0.399416  [44800/60000]\n",
      "loss:0.404415  [51200/60000]\n",
      "loss:0.493286  [57600/60000]\n",
      "test_error: \n",
      " accuracy: 52.5%, avg loss: 0.498180\n",
      "epoch 16\n",
      "-----------\n",
      "loss:0.603522  [    0/60000]\n",
      "loss:0.417281  [ 6400/60000]\n",
      "loss:0.594443  [12800/60000]\n",
      "loss:0.410669  [19200/60000]\n",
      "loss:0.575432  [25600/60000]\n",
      "loss:0.465051  [32000/60000]\n",
      "loss:0.778992  [38400/60000]\n",
      "loss:0.483543  [44800/60000]\n",
      "loss:0.510852  [51200/60000]\n",
      "loss:0.553135  [57600/60000]\n",
      "test_error: \n",
      " accuracy: 52.5%, avg loss: 0.495464\n",
      "epoch 17\n",
      "-----------\n",
      "loss:0.434676  [    0/60000]\n",
      "loss:0.409402  [ 6400/60000]\n",
      "loss:0.347823  [12800/60000]\n",
      "loss:0.389516  [19200/60000]\n",
      "loss:0.617627  [25600/60000]\n",
      "loss:0.565770  [32000/60000]\n",
      "loss:0.389281  [38400/60000]\n",
      "loss:0.515041  [44800/60000]\n",
      "loss:0.815520  [51200/60000]\n",
      "loss:0.471349  [57600/60000]\n",
      "test_error: \n",
      " accuracy: 52.6%, avg loss: 0.492076\n",
      "epoch 18\n",
      "-----------\n",
      "loss:0.270249  [    0/60000]\n",
      "loss:0.379632  [ 6400/60000]\n",
      "loss:0.298491  [12800/60000]\n",
      "loss:0.361762  [19200/60000]\n",
      "loss:0.381261  [25600/60000]\n",
      "loss:0.479256  [32000/60000]\n",
      "loss:0.410796  [38400/60000]\n",
      "loss:0.498261  [44800/60000]\n",
      "loss:0.381956  [51200/60000]\n",
      "loss:0.549737  [57600/60000]\n",
      "test_error: \n",
      " accuracy: 52.6%, avg loss: 0.490213\n",
      "epoch 19\n",
      "-----------\n",
      "loss:0.498900  [    0/60000]\n",
      "loss:0.459444  [ 6400/60000]\n",
      "loss:0.307691  [12800/60000]\n",
      "loss:0.267866  [19200/60000]\n",
      "loss:0.322703  [25600/60000]\n",
      "loss:0.286487  [32000/60000]\n",
      "loss:0.492620  [38400/60000]\n",
      "loss:0.540091  [44800/60000]\n",
      "loss:0.500718  [51200/60000]\n",
      "loss:0.549521  [57600/60000]\n",
      "test_error: \n",
      " accuracy: 52.6%, avg loss: 0.489307\n",
      "epoch 20\n",
      "-----------\n",
      "loss:0.337808  [    0/60000]\n",
      "loss:0.660186  [ 6400/60000]\n",
      "loss:0.345623  [12800/60000]\n",
      "loss:0.649191  [19200/60000]\n",
      "loss:0.378621  [25600/60000]\n",
      "loss:0.499229  [32000/60000]\n",
      "loss:0.458999  [38400/60000]\n",
      "loss:0.319860  [44800/60000]\n",
      "loss:0.621677  [51200/60000]\n",
      "loss:0.537775  [57600/60000]\n",
      "test_error: \n",
      " accuracy: 52.7%, avg loss: 0.487451\n",
      "epoch 21\n",
      "-----------\n",
      "loss:0.445299  [    0/60000]\n",
      "loss:0.496878  [ 6400/60000]\n",
      "loss:0.307929  [12800/60000]\n",
      "loss:0.535925  [19200/60000]\n",
      "loss:0.317836  [25600/60000]\n",
      "loss:0.454215  [32000/60000]\n",
      "loss:0.423999  [38400/60000]\n",
      "loss:0.314606  [44800/60000]\n",
      "loss:0.395230  [51200/60000]\n",
      "loss:0.525005  [57600/60000]\n",
      "test_error: \n",
      " accuracy: 52.7%, avg loss: 0.484565\n",
      "epoch 22\n",
      "-----------\n",
      "loss:0.393528  [    0/60000]\n",
      "loss:0.565025  [ 6400/60000]\n",
      "loss:0.507637  [12800/60000]\n",
      "loss:0.482364  [19200/60000]\n",
      "loss:0.487523  [25600/60000]\n",
      "loss:0.548941  [32000/60000]\n",
      "loss:0.381250  [38400/60000]\n",
      "loss:0.459387  [44800/60000]\n",
      "loss:0.477477  [51200/60000]\n",
      "loss:0.691953  [57600/60000]\n",
      "test_error: \n",
      " accuracy: 52.7%, avg loss: 0.487929\n",
      "epoch 23\n",
      "-----------\n",
      "loss:0.454947  [    0/60000]\n",
      "loss:0.361763  [ 6400/60000]\n",
      "loss:0.485332  [12800/60000]\n",
      "loss:0.556226  [19200/60000]\n",
      "loss:0.400205  [25600/60000]\n",
      "loss:0.454469  [32000/60000]\n",
      "loss:0.481810  [38400/60000]\n",
      "loss:0.605343  [44800/60000]\n",
      "loss:0.452493  [51200/60000]\n",
      "loss:0.484555  [57600/60000]\n",
      "test_error: \n",
      " accuracy: 52.8%, avg loss: 0.486774\n",
      "epoch 24\n",
      "-----------\n",
      "loss:0.345253  [    0/60000]\n",
      "loss:0.397302  [ 6400/60000]\n",
      "loss:0.542971  [12800/60000]\n",
      "loss:0.343462  [19200/60000]\n",
      "loss:0.493979  [25600/60000]\n",
      "loss:0.428990  [32000/60000]\n",
      "loss:0.607634  [38400/60000]\n",
      "loss:0.576914  [44800/60000]\n",
      "loss:0.481133  [51200/60000]\n",
      "loss:0.411203  [57600/60000]\n",
      "test_error: \n",
      " accuracy: 52.7%, avg loss: 0.482903\n",
      "epoch 25\n",
      "-----------\n",
      "loss:0.384663  [    0/60000]\n",
      "loss:0.394263  [ 6400/60000]\n",
      "loss:0.434961  [12800/60000]\n",
      "loss:0.340434  [19200/60000]\n",
      "loss:0.380347  [25600/60000]\n",
      "loss:0.437359  [32000/60000]\n",
      "loss:0.434297  [38400/60000]\n",
      "loss:0.450354  [44800/60000]\n",
      "loss:0.541825  [51200/60000]\n",
      "loss:0.331688  [57600/60000]\n",
      "test_error: \n",
      " accuracy: 52.9%, avg loss: 0.480587\n",
      "epoch 26\n",
      "-----------\n",
      "loss:0.645536  [    0/60000]\n",
      "loss:0.359519  [ 6400/60000]\n",
      "loss:0.563099  [12800/60000]\n",
      "loss:0.307673  [19200/60000]\n",
      "loss:0.334788  [25600/60000]\n",
      "loss:0.403623  [32000/60000]\n",
      "loss:0.494138  [38400/60000]\n",
      "loss:0.363104  [44800/60000]\n",
      "loss:0.343064  [51200/60000]\n",
      "loss:0.407500  [57600/60000]\n",
      "test_error: \n",
      " accuracy: 52.9%, avg loss: 0.476822\n",
      "epoch 27\n",
      "-----------\n",
      "loss:0.432429  [    0/60000]\n",
      "loss:0.499766  [ 6400/60000]\n",
      "loss:0.374124  [12800/60000]\n",
      "loss:0.540143  [19200/60000]\n",
      "loss:0.297344  [25600/60000]\n",
      "loss:0.524935  [32000/60000]\n",
      "loss:0.343902  [38400/60000]\n",
      "loss:0.347426  [44800/60000]\n",
      "loss:0.335270  [51200/60000]\n",
      "loss:0.499410  [57600/60000]\n",
      "test_error: \n",
      " accuracy: 53.0%, avg loss: 0.478940\n",
      "epoch 28\n",
      "-----------\n",
      "loss:0.479094  [    0/60000]\n",
      "loss:0.456512  [ 6400/60000]\n",
      "loss:0.437655  [12800/60000]\n",
      "loss:0.471505  [19200/60000]\n",
      "loss:0.371802  [25600/60000]\n",
      "loss:0.403168  [32000/60000]\n",
      "loss:0.376456  [38400/60000]\n",
      "loss:0.467690  [44800/60000]\n",
      "loss:0.395769  [51200/60000]\n",
      "loss:0.431980  [57600/60000]\n",
      "test_error: \n",
      " accuracy: 52.9%, avg loss: 0.475631\n",
      "epoch 29\n",
      "-----------\n",
      "loss:0.319916  [    0/60000]\n",
      "loss:0.460795  [ 6400/60000]\n",
      "loss:0.433918  [12800/60000]\n",
      "loss:0.437836  [19200/60000]\n",
      "loss:0.319498  [25600/60000]\n",
      "loss:0.365846  [32000/60000]\n",
      "loss:0.383604  [38400/60000]\n",
      "loss:0.474031  [44800/60000]\n",
      "loss:0.599963  [51200/60000]\n",
      "loss:0.491766  [57600/60000]\n",
      "test_error: \n",
      " accuracy: 52.9%, avg loss: 0.472931\n",
      "epoch 30\n",
      "-----------\n",
      "loss:0.524800  [    0/60000]\n",
      "loss:0.489012  [ 6400/60000]\n",
      "loss:0.370130  [12800/60000]\n",
      "loss:0.451011  [19200/60000]\n",
      "loss:0.886103  [25600/60000]\n",
      "loss:0.400460  [32000/60000]\n",
      "loss:0.437909  [38400/60000]\n",
      "loss:0.588002  [44800/60000]\n",
      "loss:0.214145  [51200/60000]\n",
      "loss:0.291466  [57600/60000]\n",
      "test_error: \n",
      " accuracy: 52.9%, avg loss: 0.472931\n",
      "epoch 31\n",
      "-----------\n",
      "loss:0.509408  [    0/60000]\n",
      "loss:0.427050  [ 6400/60000]\n",
      "loss:0.523832  [12800/60000]\n",
      "loss:0.348639  [19200/60000]\n",
      "loss:0.248794  [25600/60000]\n",
      "loss:0.588237  [32000/60000]\n",
      "loss:0.418017  [38400/60000]\n",
      "loss:0.464670  [44800/60000]\n",
      "loss:0.396490  [51200/60000]\n",
      "loss:0.673421  [57600/60000]\n",
      "test_error: \n",
      " accuracy: 53.0%, avg loss: 0.471086\n",
      "epoch 32\n",
      "-----------\n",
      "loss:0.592310  [    0/60000]\n",
      "loss:0.353278  [ 6400/60000]\n",
      "loss:0.441353  [12800/60000]\n",
      "loss:0.412679  [19200/60000]\n",
      "loss:0.375942  [25600/60000]\n",
      "loss:0.356119  [32000/60000]\n",
      "loss:0.452064  [38400/60000]\n",
      "loss:0.296460  [44800/60000]\n",
      "loss:0.453469  [51200/60000]\n",
      "loss:0.408677  [57600/60000]\n",
      "test_error: \n",
      " accuracy: 53.0%, avg loss: 0.470715\n",
      "epoch 33\n",
      "-----------\n",
      "loss:0.365495  [    0/60000]\n",
      "loss:0.486600  [ 6400/60000]\n",
      "loss:0.455654  [12800/60000]\n",
      "loss:0.506247  [19200/60000]\n",
      "loss:0.685728  [25600/60000]\n",
      "loss:0.304976  [32000/60000]\n",
      "loss:0.388517  [38400/60000]\n",
      "loss:0.360408  [44800/60000]\n",
      "loss:0.331414  [51200/60000]\n",
      "loss:0.447291  [57600/60000]\n",
      "test_error: \n",
      " accuracy: 53.0%, avg loss: 0.472884\n",
      "epoch 34\n",
      "-----------\n",
      "loss:0.446876  [    0/60000]\n",
      "loss:0.405053  [ 6400/60000]\n",
      "loss:0.334764  [12800/60000]\n",
      "loss:0.271465  [19200/60000]\n",
      "loss:0.464197  [25600/60000]\n",
      "loss:0.578623  [32000/60000]\n",
      "loss:0.493949  [38400/60000]\n",
      "loss:0.429926  [44800/60000]\n",
      "loss:0.323426  [51200/60000]\n",
      "loss:0.554981  [57600/60000]\n",
      "test_error: \n",
      " accuracy: 53.1%, avg loss: 0.471703\n",
      "epoch 35\n",
      "-----------\n",
      "loss:0.374326  [    0/60000]\n",
      "loss:0.308854  [ 6400/60000]\n",
      "loss:0.452700  [12800/60000]\n",
      "loss:0.376452  [19200/60000]\n",
      "loss:0.408269  [25600/60000]\n",
      "loss:0.525117  [32000/60000]\n",
      "loss:0.377961  [38400/60000]\n",
      "loss:0.305448  [44800/60000]\n",
      "loss:0.468168  [51200/60000]\n",
      "loss:0.482666  [57600/60000]\n",
      "test_error: \n",
      " accuracy: 53.0%, avg loss: 0.466289\n",
      "epoch 36\n",
      "-----------\n",
      "loss:0.234297  [    0/60000]\n",
      "loss:0.389741  [ 6400/60000]\n",
      "loss:0.393763  [12800/60000]\n",
      "loss:0.446962  [19200/60000]\n",
      "loss:0.533056  [25600/60000]\n",
      "loss:0.454651  [32000/60000]\n",
      "loss:0.399027  [38400/60000]\n",
      "loss:0.367837  [44800/60000]\n",
      "loss:0.273118  [51200/60000]\n",
      "loss:0.374541  [57600/60000]\n",
      "test_error: \n",
      " accuracy: 53.1%, avg loss: 0.465912\n",
      "epoch 37\n",
      "-----------\n",
      "loss:0.290747  [    0/60000]\n",
      "loss:0.339288  [ 6400/60000]\n",
      "loss:0.408390  [12800/60000]\n",
      "loss:0.298716  [19200/60000]\n",
      "loss:0.424627  [25600/60000]\n",
      "loss:0.344975  [32000/60000]\n",
      "loss:0.366740  [38400/60000]\n",
      "loss:0.456884  [44800/60000]\n",
      "loss:0.737704  [51200/60000]\n",
      "loss:0.189983  [57600/60000]\n",
      "test_error: \n",
      " accuracy: 53.1%, avg loss: 0.465576\n",
      "epoch 38\n",
      "-----------\n",
      "loss:0.480958  [    0/60000]\n",
      "loss:0.326887  [ 6400/60000]\n",
      "loss:0.545771  [12800/60000]\n",
      "loss:0.479169  [19200/60000]\n",
      "loss:0.473020  [25600/60000]\n",
      "loss:0.430057  [32000/60000]\n",
      "loss:0.527914  [38400/60000]\n",
      "loss:0.431990  [44800/60000]\n",
      "loss:0.695476  [51200/60000]\n",
      "loss:0.272788  [57600/60000]\n",
      "test_error: \n",
      " accuracy: 53.3%, avg loss: 0.463519\n",
      "epoch 39\n",
      "-----------\n",
      "loss:0.332920  [    0/60000]\n",
      "loss:0.373273  [ 6400/60000]\n",
      "loss:0.291810  [12800/60000]\n",
      "loss:0.351856  [19200/60000]\n",
      "loss:0.313892  [25600/60000]\n",
      "loss:0.456089  [32000/60000]\n",
      "loss:0.509103  [38400/60000]\n",
      "loss:0.349662  [44800/60000]\n",
      "loss:0.537485  [51200/60000]\n",
      "loss:0.417318  [57600/60000]\n",
      "test_error: \n",
      " accuracy: 53.2%, avg loss: 0.464570\n",
      "epoch 40\n",
      "-----------\n",
      "loss:0.682920  [    0/60000]\n",
      "loss:0.458845  [ 6400/60000]\n",
      "loss:0.458082  [12800/60000]\n",
      "loss:0.425663  [19200/60000]\n",
      "loss:0.386880  [25600/60000]\n",
      "loss:0.540173  [32000/60000]\n",
      "loss:0.368168  [38400/60000]\n",
      "loss:0.429414  [44800/60000]\n",
      "loss:0.417166  [51200/60000]\n",
      "loss:0.456353  [57600/60000]\n",
      "test_error: \n",
      " accuracy: 53.3%, avg loss: 0.464318\n",
      "DONE\n"
     ]
    }
   ],
   "source": [
    "for t in range(epoch):\n",
    "    print(f'epoch {t+1}\\n-----------')\n",
    "    train_loop(train_dataloader,model,loss_fn,opt)\n",
    "    test_loop(test_dataloader,model,loss_fn)\n",
    "print('DONE')"
   ]
  },
  {
   "cell_type": "code",
   "execution_count": null,
   "metadata": {},
   "outputs": [],
   "source": []
  }
 ],
 "metadata": {
  "interpreter": {
   "hash": "c72f12f90170356fe3abc9748a888f8a0f253bf3dee690070f84c0db82f6a8c0"
  },
  "kernelspec": {
   "display_name": "Python 3.9.7 ('base')",
   "language": "python",
   "name": "python3"
  },
  "language_info": {
   "codemirror_mode": {
    "name": "ipython",
    "version": 3
   },
   "file_extension": ".py",
   "mimetype": "text/x-python",
   "name": "python",
   "nbconvert_exporter": "python",
   "pygments_lexer": "ipython3",
   "version": "3.9.7"
  },
  "orig_nbformat": 4
 },
 "nbformat": 4,
 "nbformat_minor": 2
}
